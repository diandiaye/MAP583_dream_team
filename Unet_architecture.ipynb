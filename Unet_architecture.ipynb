{
  "nbformat": 4,
  "nbformat_minor": 0,
  "metadata": {
    "colab": {
      "name": "Unet_architecture.ipynb",
      "provenance": [],
      "collapsed_sections": [],
      "toc_visible": true
    },
    "kernelspec": {
      "name": "python3",
      "display_name": "Python 3"
    },
    "accelerator": "GPU"
  },
  "cells": [
    {
      "cell_type": "code",
      "metadata": {
        "id": "Vjn1LJkt4-b_",
        "colab_type": "code",
        "outputId": "ec01aa7d-4be4-46e8-cc72-55cef829ee52",
        "colab": {
          "base_uri": "https://localhost:8080/",
          "height": 34
        }
      },
      "source": [
        "print(\"hello\")"
      ],
      "execution_count": 2,
      "outputs": [
        {
          "output_type": "stream",
          "text": [
            "hello\n"
          ],
          "name": "stdout"
        }
      ]
    },
    {
      "cell_type": "code",
      "metadata": {
        "id": "OaompLNK5Foc",
        "colab_type": "code",
        "outputId": "4af3c5bd-c1e9-478e-d3c7-6d7ff3cfa6ee",
        "colab": {
          "base_uri": "https://localhost:8080/",
          "height": 121
        }
      },
      "source": [
        "from google.colab import drive\n",
        "drive.mount('/content/drive')\n",
        "\n"
      ],
      "execution_count": 3,
      "outputs": [
        {
          "output_type": "stream",
          "text": [
            "Go to this URL in a browser: https://accounts.google.com/o/oauth2/auth?client_id=947318989803-6bn6qk8qdgf4n4g3pfee6491hc0brc4i.apps.googleusercontent.com&redirect_uri=urn%3aietf%3awg%3aoauth%3a2.0%3aoob&response_type=code&scope=email%20https%3a%2f%2fwww.googleapis.com%2fauth%2fdocs.test%20https%3a%2f%2fwww.googleapis.com%2fauth%2fdrive%20https%3a%2f%2fwww.googleapis.com%2fauth%2fdrive.photos.readonly%20https%3a%2f%2fwww.googleapis.com%2fauth%2fpeopleapi.readonly\n",
            "\n",
            "Enter your authorization code:\n",
            "··········\n",
            "Mounted at /content/drive\n"
          ],
          "name": "stdout"
        }
      ]
    },
    {
      "cell_type": "code",
      "metadata": {
        "id": "SjWaQn8O5Lhe",
        "colab_type": "code",
        "colab": {}
      },
      "source": [
        "import torch\n",
        "import torch.nn as nn\n",
        "import torch.nn.functional as F\n",
        "\n",
        "\n",
        "class DoubleConv(nn.Module):\n",
        "    \"\"\"(convolution => [BN] => ReLU) * 2\"\"\"\n",
        "\n",
        "    def __init__(self, in_channels, out_channels):\n",
        "        super().__init__()\n",
        "        self.double_conv = nn.Sequential(\n",
        "            nn.Conv2d(in_channels, out_channels, kernel_size=3, padding=1),\n",
        "            nn.BatchNorm2d(out_channels),\n",
        "            nn.ReLU(inplace=True),\n",
        "            nn.Conv2d(out_channels, out_channels, kernel_size=3, padding=1),\n",
        "            nn.BatchNorm2d(out_channels),\n",
        "            nn.ReLU(inplace=True)\n",
        "        )\n",
        "\n",
        "    def forward(self, x):\n",
        "        return self.double_conv(x)\n",
        "\n",
        "\n",
        "class Down(nn.Module):\n",
        "    \"\"\"Downscaling with maxpool then double conv\"\"\"\n",
        "\n",
        "    def __init__(self, in_channels, out_channels):\n",
        "        super().__init__()\n",
        "        self.maxpool_conv = nn.Sequential(\n",
        "            nn.MaxPool2d(2),\n",
        "            DoubleConv(in_channels, out_channels)\n",
        "        )\n",
        "\n",
        "    def forward(self, x):\n",
        "        return self.maxpool_conv(x)\n",
        "\n",
        "\n",
        "class Up(nn.Module):\n",
        "    \"\"\"Upscaling then double conv\"\"\"\n",
        "\n",
        "    def __init__(self, in_channels, out_channels, bilinear=True):\n",
        "        super().__init__()\n",
        "\n",
        "        # if bilinear, use the normal convolutions to reduce the number of channels\n",
        "        if bilinear:\n",
        "            self.up = nn.Upsample(scale_factor=2, mode='bilinear', align_corners=True)\n",
        "        else:\n",
        "            self.up = nn.ConvTranspose2d(in_channels // 2, in_channels // 2, kernel_size=2, stride=2)\n",
        "\n",
        "        self.conv = DoubleConv(in_channels, out_channels)\n",
        "\n",
        "    def forward(self, x1, x2):\n",
        "        x1 = self.up(x1)\n",
        "        # input is CHW\n",
        "        diffY = torch.tensor([x2.size()[2] - x1.size()[2]])\n",
        "        diffX = torch.tensor([x2.size()[3] - x1.size()[3]])\n",
        "\n",
        "        x1 = F.pad(x1, [diffX // 2, diffX - diffX // 2,\n",
        "                        diffY // 2, diffY - diffY // 2])\n",
        "        # if you have padding issues, see\n",
        "        # https://github.com/HaiyongJiang/U-Net-Pytorch-Unstructured-Buggy/commit/0e854509c2cea854e247a9c615f175f76fbb2e3a\n",
        "        # https://github.com/xiaopeng-liao/Pytorch-UNet/commit/8ebac70e633bac59fc22bb5195e513d5832fb3bd\n",
        "        x = torch.cat([x2, x1], dim=1)\n",
        "        return self.conv(x)\n",
        "\n",
        "\n",
        "class OutConv(nn.Module):\n",
        "    def __init__(self, in_channels, out_channels):\n",
        "        super(OutConv, self).__init__()\n",
        "        self.conv = nn.Conv2d(in_channels, out_channels, kernel_size=1)\n",
        "\n",
        "    def forward(self, x):\n",
        "        x1= self.conv(x) \n",
        "        return F.sigmoid(x1)\n",
        "        "
      ],
      "execution_count": 0,
      "outputs": []
    },
    {
      "cell_type": "code",
      "metadata": {
        "id": "FpjmAnAh6cSP",
        "colab_type": "code",
        "colab": {}
      },
      "source": [
        "\n",
        "import torch.nn.functional as F\n",
        "\n",
        "\n",
        "\n",
        "class UNet(nn.Module):\n",
        "    def __init__(self, bilinear=True):\n",
        "        super(UNet, self).__init__()\n",
        "        self.bilinear = bilinear\n",
        "\n",
        "        self.inc = DoubleConv(3, 64)\n",
        "        self.down1 = Down(64, 128)\n",
        "        self.down2 = Down(128, 256)\n",
        "        self.down3 = Down(256, 512)\n",
        "        self.down4 = Down(512, 512)\n",
        "        self.up1 = Up(1024, 256, bilinear)\n",
        "        self.up2 = Up(512, 128, bilinear)\n",
        "        self.up3 = Up(256, 64, bilinear)\n",
        "        self.up4 = Up(128, 64, bilinear)\n",
        "        self.outc = OutConv(64, 3)\n",
        "        \n",
        "\n",
        "    def forward(self, x):\n",
        "        x1 = self.inc(x)\n",
        "        x2 = self.down1(x1)\n",
        "        x3 = self.down2(x2)\n",
        "        x4 = self.down3(x3)\n",
        "        x5 = self.down4(x4)\n",
        "        x = self.up1(x5, x4)\n",
        "        x = self.up2(x, x3)\n",
        "        x = self.up3(x, x2)\n",
        "        x = self.up4(x, x1)\n",
        "        logits = self.outc(x)\n",
        "        return logits"
      ],
      "execution_count": 0,
      "outputs": []
    },
    {
      "cell_type": "code",
      "metadata": {
        "id": "yJqlCSMl6fKh",
        "colab_type": "code",
        "colab": {}
      },
      "source": [
        "from torch.utils.data import Dataset, DataLoader\n",
        "from torchvision import transforms, datasets, models\n",
        "\n",
        "\n",
        "import os\n",
        "\n",
        "class Pick_images(Dataset):\n",
        "    def __init__(self,data_dir, transform=None):\n",
        "        self.input_images = datasets.ImageFolder(os.path.join(data_dir,\"imgs\"))\n",
        "        self.target_masks = datasets.ImageFolder(os.path.join(data_dir,\"masks\"))     \n",
        "        self.transform = transform\n",
        "    \n",
        "    def __len__(self):\n",
        "        return len(self.input_images)\n",
        "    \n",
        "    def __getitem__(self, idx):  \n",
        "        image = self.input_images[idx][0]\n",
        "\n",
        "        mask = self.target_masks[idx][0]\n",
        "        if self.transform:\n",
        "            # image = transforms.Compose([ transforms.CenterCrop((300,200)),])\n",
        "            image=transforms.Compose([transforms.CenterCrop((300,200)),transforms.ToTensor(),])(image)\n",
        "            mask = self.transform(mask)\n",
        "\n",
        "\n",
        "\n",
        "        \n",
        "        return image, mask\n"
      ],
      "execution_count": 0,
      "outputs": []
    },
    {
      "cell_type": "code",
      "metadata": {
        "id": "JMFeIjSV6iev",
        "colab_type": "code",
        "outputId": "03639660-3bc1-4370-9cbf-c23f74692abf",
        "colab": {
          "base_uri": "https://localhost:8080/",
          "height": 50
        }
      },
      "source": [
        "%matplotlib inline\n",
        "%load_ext autoreload\n",
        "%autoreload 2\n",
        "\n",
        "import os,sys\n",
        "import matplotlib.pyplot as plt\n",
        "import numpy as np"
      ],
      "execution_count": 58,
      "outputs": [
        {
          "output_type": "stream",
          "text": [
            "The autoreload extension is already loaded. To reload it, use:\n",
            "  %reload_ext autoreload\n"
          ],
          "name": "stdout"
        }
      ]
    },
    {
      "cell_type": "code",
      "metadata": {
        "id": "RyYa1kmB63aP",
        "colab_type": "code",
        "outputId": "a8453e3b-cde6-4792-ee04-0ab10ce4a656",
        "colab": {
          "base_uri": "https://localhost:8080/",
          "height": 34
        }
      },
      "source": [
        "normalize = transforms.Normalize(mean=[0.5, 0.5, 0.5], std=[0.5, 0.5, 0.5])\n",
        "trans = transforms.Compose([\n",
        "   transforms.CenterCrop((300,200)), transforms.ToTensor(),normalize\n",
        "])\n",
        "\n",
        "data_train='/content/drive/My Drive/MAP583/dataset/train'\n",
        "data_valid='/content/drive/My Drive/MAP583/dataset/valid'\n",
        "train_set = Pick_images(data_train,transform = trans)\n",
        "val_set = Pick_images(data_valid,transform = trans)\n",
        "\n",
        "image_datasets = {\n",
        "    'train': train_set, 'val': val_set\n",
        "}\n",
        "\n",
        "batch_size = 5\n",
        "\n",
        "dataloaders = {\n",
        "    'train': DataLoader(train_set, batch_size=batch_size, shuffle=True, num_workers=0),\n",
        "    'val': DataLoader(val_set, batch_size=batch_size, shuffle=True, num_workers=0)\n",
        "}\n",
        "\n",
        "dataset_sizes = {\n",
        "    x: len(image_datasets[x]) for x in image_datasets.keys()\n",
        "}\n",
        "\n",
        "dataset_sizes"
      ],
      "execution_count": 59,
      "outputs": [
        {
          "output_type": "execute_result",
          "data": {
            "text/plain": [
              "{'train': 40, 'val': 20}"
            ]
          },
          "metadata": {
            "tags": []
          },
          "execution_count": 59
        }
      ]
    },
    {
      "cell_type": "code",
      "metadata": {
        "id": "fYJEAFMZ7IVw",
        "colab_type": "code",
        "colab": {}
      },
      "source": [
        "import torch\n",
        "import torch.nn as nn\n",
        "\n",
        "\n",
        "device = torch.device('cuda' if torch.cuda.is_available() else 'cpu')\n"
      ],
      "execution_count": 0,
      "outputs": []
    },
    {
      "cell_type": "code",
      "metadata": {
        "id": "0EhfIfmv7PI2",
        "colab_type": "code",
        "outputId": "6fe0be0f-574c-4793-83d8-5941c214a7db",
        "colab": {
          "base_uri": "https://localhost:8080/",
          "height": 34
        }
      },
      "source": [
        "print(device)"
      ],
      "execution_count": 55,
      "outputs": [
        {
          "output_type": "stream",
          "text": [
            "cuda\n"
          ],
          "name": "stdout"
        }
      ]
    },
    {
      "cell_type": "code",
      "metadata": {
        "id": "hcmEx4hgLQp5",
        "colab_type": "code",
        "colab": {}
      },
      "source": [
        ""
      ],
      "execution_count": 0,
      "outputs": []
    },
    {
      "cell_type": "code",
      "metadata": {
        "id": "y7UGtsiB7Rqv",
        "colab_type": "code",
        "colab": {}
      },
      "source": [
        "for images, masks in dataloaders[\"train\"]:\n",
        "                images = images.to(device)\n",
        "                masks = masks.to(device)  \n",
        "                break;    "
      ],
      "execution_count": 0,
      "outputs": []
    },
    {
      "cell_type": "code",
      "metadata": {
        "id": "Zby262Up7XSt",
        "colab_type": "code",
        "outputId": "84e9131c-874a-4672-d776-2fc750790d2a",
        "colab": {
          "base_uri": "https://localhost:8080/",
          "height": 34
        }
      },
      "source": [
        "images.size()"
      ],
      "execution_count": 34,
      "outputs": [
        {
          "output_type": "execute_result",
          "data": {
            "text/plain": [
              "torch.Size([5, 3, 300, 200])"
            ]
          },
          "metadata": {
            "tags": []
          },
          "execution_count": 34
        }
      ]
    },
    {
      "cell_type": "code",
      "metadata": {
        "id": "M3kVHqMb7UQG",
        "colab_type": "code",
        "colab": {}
      },
      "source": [
        "model = UNet()\n",
        "model = model.to(device)"
      ],
      "execution_count": 0,
      "outputs": []
    },
    {
      "cell_type": "code",
      "metadata": {
        "id": "n5JjLs_J7msZ",
        "colab_type": "code",
        "colab": {}
      },
      "source": [
        "import torch.nn as nn\n",
        "\n",
        "\n",
        "\n",
        "def train_model(model, optimizer, scheduler, criterion ,num_epochs=25):\n",
        "    best_model_wts = copy.deepcopy(model.state_dict())\n",
        "    best_loss = 1e10\n",
        "    losses=[]\n",
        "    for epoch in range(num_epochs):\n",
        "        print('Epoch {}/{}'.format(epoch, num_epochs - 1))\n",
        "        print('-' * 10)\n",
        "        \n",
        "        since = time.time()\n",
        "\n",
        "        # Each epoch has a training and validation phase\n",
        "        for phase in ['train', 'val']:\n",
        "            if phase == 'train':\n",
        "                scheduler.step()\n",
        "                for param_group in optimizer.param_groups:\n",
        "                    print(\"LR\", param_group['lr'])\n",
        "                    \n",
        "                model.train()  # Set model to training mode\n",
        "            else:\n",
        "                model.eval()   # Set model to evaluate mode\n",
        "\n",
        "                epoch_samples = 0\n",
        "            \n",
        "            for images, masks in dataloaders[phase]:\n",
        "                images = images.to(device)\n",
        "                masks = masks.to(device)             \n",
        "\n",
        "                # zero the parameter gradients\n",
        "                optimizer.zero_grad()\n",
        "\n",
        "                # forward\n",
        "                # track history if only in train\n",
        "                with torch.set_grad_enabled(phase == 'train'):\n",
        "                    outputs = model(masks)\n",
        "                    loss=criterion(outputs,images)\n",
        "\n",
        "                    # backward + optimize only if in training phase\n",
        "                    if phase == 'train':\n",
        "                        loss.backward()\n",
        "                        optimizer.step()\n",
        "\n",
        "                # statistics\n",
        "                epoch_samples = images.size(0)\n",
        "\n",
        "            epoch_loss = loss / epoch_samples\n",
        "\n",
        "            # deep copy the model\n",
        "            if phase == 'val':  \n",
        "                losses.append(epoch_loss)\n",
        "            if phase == 'val' and epoch_loss < best_loss:\n",
        "                losses.append(epoch_loss)\n",
        "                print(\"saving best model\")\n",
        "                best_loss = epoch_loss\n",
        "                best_model_wts = copy.deepcopy(model.state_dict())\n",
        "\n",
        "        time_elapsed = time.time() - since\n",
        "        print('{:.0f}m {:.0f}s'.format(time_elapsed // 60, time_elapsed % 60))\n",
        "    print('Best val loss: {:4f}'.format(best_loss))\n",
        "\n",
        "    # load best model weights\n",
        "    model.load_state_dict(best_model_wts)\n",
        "    return model,losses"
      ],
      "execution_count": 0,
      "outputs": []
    },
    {
      "cell_type": "code",
      "metadata": {
        "id": "GucCBtiG7qv8",
        "colab_type": "code",
        "outputId": "2a1884ca-7427-4571-c57d-e8b09d7c503c",
        "colab": {
          "base_uri": "https://localhost:8080/",
          "height": 1000
        }
      },
      "source": [
        "import torch\n",
        "import torch.optim as optim\n",
        "from torch.optim import lr_scheduler\n",
        "import time\n",
        "import copy\n",
        "criterion = nn.L1Loss()\n",
        "# Observe that all parameters are being optimized\n",
        "optimizer_ft = optim.Adam(model.parameters(), lr=1e-4) ### Decay\n",
        "\n",
        "exp_lr_scheduler = lr_scheduler.StepLR(optimizer_ft, step_size=25, gamma=0.1)\n",
        "\n",
        "model ,losses = train_model(model, optimizer_ft, exp_lr_scheduler,criterion, num_epochs=50)"
      ],
      "execution_count": 68,
      "outputs": [
        {
          "output_type": "stream",
          "text": [
            "Epoch 0/49\n",
            "----------\n",
            "LR 0.0001\n"
          ],
          "name": "stdout"
        },
        {
          "output_type": "stream",
          "text": [
            "/usr/local/lib/python3.6/dist-packages/torch/optim/lr_scheduler.py:122: UserWarning: Detected call of `lr_scheduler.step()` before `optimizer.step()`. In PyTorch 1.1.0 and later, you should call them in the opposite order: `optimizer.step()` before `lr_scheduler.step()`.  Failure to do this will result in PyTorch skipping the first value of the learning rate schedule. See more details at https://pytorch.org/docs/stable/optim.html#how-to-adjust-learning-rate\n",
            "  \"https://pytorch.org/docs/stable/optim.html#how-to-adjust-learning-rate\", UserWarning)\n",
            "/usr/local/lib/python3.6/dist-packages/torch/nn/functional.py:1351: UserWarning: nn.functional.sigmoid is deprecated. Use torch.sigmoid instead.\n",
            "  warnings.warn(\"nn.functional.sigmoid is deprecated. Use torch.sigmoid instead.\")\n"
          ],
          "name": "stderr"
        },
        {
          "output_type": "stream",
          "text": [
            "saving best model\n",
            "0m 3s\n",
            "Epoch 1/49\n",
            "----------\n",
            "LR 0.0001\n",
            "saving best model\n",
            "0m 3s\n",
            "Epoch 2/49\n",
            "----------\n",
            "LR 0.0001\n",
            "saving best model\n",
            "0m 3s\n",
            "Epoch 3/49\n",
            "----------\n",
            "LR 0.0001\n",
            "saving best model\n",
            "0m 3s\n",
            "Epoch 4/49\n",
            "----------\n",
            "LR 0.0001\n",
            "saving best model\n",
            "0m 3s\n",
            "Epoch 5/49\n",
            "----------\n",
            "LR 0.0001\n",
            "0m 3s\n",
            "Epoch 6/49\n",
            "----------\n",
            "LR 0.0001\n",
            "saving best model\n",
            "0m 3s\n",
            "Epoch 7/49\n",
            "----------\n",
            "LR 0.0001\n",
            "0m 3s\n",
            "Epoch 8/49\n",
            "----------\n",
            "LR 0.0001\n",
            "saving best model\n",
            "0m 3s\n",
            "Epoch 9/49\n",
            "----------\n",
            "LR 0.0001\n",
            "saving best model\n",
            "0m 3s\n",
            "Epoch 10/49\n",
            "----------\n",
            "LR 0.0001\n",
            "saving best model\n",
            "0m 3s\n",
            "Epoch 11/49\n",
            "----------\n",
            "LR 0.0001\n",
            "0m 3s\n",
            "Epoch 12/49\n",
            "----------\n",
            "LR 0.0001\n",
            "0m 3s\n",
            "Epoch 13/49\n",
            "----------\n",
            "LR 0.0001\n",
            "0m 3s\n",
            "Epoch 14/49\n",
            "----------\n",
            "LR 0.0001\n",
            "0m 3s\n",
            "Epoch 15/49\n",
            "----------\n",
            "LR 0.0001\n",
            "0m 3s\n",
            "Epoch 16/49\n",
            "----------\n",
            "LR 0.0001\n",
            "saving best model\n",
            "0m 3s\n",
            "Epoch 17/49\n",
            "----------\n",
            "LR 0.0001\n",
            "saving best model\n",
            "0m 3s\n",
            "Epoch 18/49\n",
            "----------\n",
            "LR 0.0001\n",
            "saving best model\n",
            "0m 3s\n",
            "Epoch 19/49\n",
            "----------\n",
            "LR 0.0001\n",
            "0m 3s\n",
            "Epoch 20/49\n",
            "----------\n",
            "LR 0.0001\n",
            "saving best model\n",
            "0m 3s\n",
            "Epoch 21/49\n",
            "----------\n",
            "LR 0.0001\n",
            "0m 3s\n",
            "Epoch 22/49\n",
            "----------\n",
            "LR 0.0001\n",
            "saving best model\n",
            "0m 3s\n",
            "Epoch 23/49\n",
            "----------\n",
            "LR 0.0001\n",
            "0m 3s\n",
            "Epoch 24/49\n",
            "----------\n",
            "LR 1e-05\n",
            "saving best model\n",
            "0m 3s\n",
            "Epoch 25/49\n",
            "----------\n",
            "LR 1e-05\n",
            "0m 3s\n",
            "Epoch 26/49\n",
            "----------\n",
            "LR 1e-05\n",
            "0m 3s\n",
            "Epoch 27/49\n",
            "----------\n",
            "LR 1e-05\n",
            "saving best model\n",
            "0m 3s\n",
            "Epoch 28/49\n",
            "----------\n",
            "LR 1e-05\n",
            "0m 3s\n",
            "Epoch 29/49\n",
            "----------\n",
            "LR 1e-05\n",
            "0m 3s\n",
            "Epoch 30/49\n",
            "----------\n",
            "LR 1e-05\n",
            "0m 3s\n",
            "Epoch 31/49\n",
            "----------\n",
            "LR 1e-05\n",
            "0m 3s\n",
            "Epoch 32/49\n",
            "----------\n",
            "LR 1e-05\n",
            "0m 3s\n",
            "Epoch 33/49\n",
            "----------\n",
            "LR 1e-05\n",
            "0m 3s\n",
            "Epoch 34/49\n",
            "----------\n",
            "LR 1e-05\n",
            "0m 3s\n",
            "Epoch 35/49\n",
            "----------\n",
            "LR 1e-05\n",
            "0m 3s\n",
            "Epoch 36/49\n",
            "----------\n",
            "LR 1e-05\n",
            "0m 3s\n",
            "Epoch 37/49\n",
            "----------\n",
            "LR 1e-05\n",
            "0m 3s\n",
            "Epoch 38/49\n",
            "----------\n",
            "LR 1e-05\n",
            "0m 3s\n",
            "Epoch 39/49\n",
            "----------\n",
            "LR 1e-05\n",
            "0m 3s\n",
            "Epoch 40/49\n",
            "----------\n",
            "LR 1e-05\n",
            "0m 3s\n",
            "Epoch 41/49\n",
            "----------\n",
            "LR 1e-05\n",
            "0m 3s\n",
            "Epoch 42/49\n",
            "----------\n",
            "LR 1e-05\n",
            "0m 3s\n",
            "Epoch 43/49\n",
            "----------\n",
            "LR 1e-05\n",
            "0m 3s\n",
            "Epoch 44/49\n",
            "----------\n",
            "LR 1e-05\n",
            "saving best model\n",
            "0m 3s\n",
            "Epoch 45/49\n",
            "----------\n",
            "LR 1e-05\n",
            "0m 3s\n",
            "Epoch 46/49\n",
            "----------\n",
            "LR 1e-05\n",
            "0m 3s\n",
            "Epoch 47/49\n",
            "----------\n",
            "LR 1e-05\n",
            "0m 3s\n",
            "Epoch 48/49\n",
            "----------\n",
            "LR 1e-05\n",
            "0m 3s\n",
            "Epoch 49/49\n",
            "----------\n",
            "LR 1.0000000000000002e-06\n",
            "0m 3s\n",
            "Best val loss: 0.009108\n"
          ],
          "name": "stdout"
        }
      ]
    },
    {
      "cell_type": "code",
      "metadata": {
        "id": "oMW-rSjw_dV_",
        "colab_type": "code",
        "outputId": "fd203f1d-4847-4336-d454-ab34178248b6",
        "colab": {
          "base_uri": "https://localhost:8080/",
          "height": 282
        }
      },
      "source": [
        "import matplotlib.pyplot as plt\n",
        "\n",
        "plt.plot(np.arange(len(losses)),losses)"
      ],
      "execution_count": 72,
      "outputs": [
        {
          "output_type": "execute_result",
          "data": {
            "text/plain": [
              "[<matplotlib.lines.Line2D at 0x7fecc031f9e8>]"
            ]
          },
          "metadata": {
            "tags": []
          },
          "execution_count": 72
        },
        {
          "output_type": "display_data",
          "data": {
            "image/png": "[encoded data removed]",
            "text/plain": [
              "<Figure size 432x288 with 1 Axes>"
            ]
          },
          "metadata": {
            "tags": []
          }
        }
      ]
    },
    {
      "cell_type": "code",
      "metadata": {
        "id": "-ikkI5dV8Sqz",
        "colab_type": "code",
        "colab": {
          "base_uri": "https://localhost:8080/",
          "height": 50
        },
        "outputId": "425ab95f-7785-4568-b917-4c91a043eb02"
      },
      "source": [
        "model.eval()   # Set model to evaluate mode\n",
        "data_test=\"/content/drive/My Drive/MAP583/dataset/test\"\n",
        "test_dataset = Pick_images(data_train,transform = trans)\n",
        "test_loader = DataLoader(test_dataset, batch_size=5, shuffle=False, num_workers=0)\n",
        "        \n",
        "inputs,masks = next(iter(test_loader))\n",
        "inputs = inputs.to(device)\n",
        "masks = masks.to(device)\n",
        "\n",
        "pred = model(inputs)\n",
        "\n"
      ],
      "execution_count": 73,
      "outputs": [
        {
          "output_type": "stream",
          "text": [
            "/usr/local/lib/python3.6/dist-packages/torch/nn/functional.py:1351: UserWarning: nn.functional.sigmoid is deprecated. Use torch.sigmoid instead.\n",
            "  warnings.warn(\"nn.functional.sigmoid is deprecated. Use torch.sigmoid instead.\")\n"
          ],
          "name": "stderr"
        }
      ]
    },
    {
      "cell_type": "code",
      "metadata": {
        "id": "yj7v95MxEzus",
        "colab_type": "code",
        "outputId": "ff345f25-58c1-4a64-d238-281a3384a148",
        "colab": {
          "base_uri": "https://localhost:8080/",
          "height": 206
        }
      },
      "source": [
        "# for tensor_1 in pred :\n",
        "#     tensor_1=tensor_1.permute(2, 1, 0) \n",
        "#     plt.imshow(tensor_1.cpu().detach().numpy())\n",
        "\n",
        "\n",
        "\n",
        "w=10\n",
        "h=10\n",
        "fig=plt.figure(figsize=(8, 8))\n",
        "columns = 4\n",
        "rows = 5\n",
        "i=0\n",
        "for tensor_1 in pred:\n",
        "    i+=1\n",
        "    tensor_1=tensor_1.permute(2, 1, 0) \n",
        "\n",
        "    img = np.random.randint(10, size=(h,w))\n",
        "    fig.add_subplot(rows, columns, i)\n",
        "    plt.imshow(tensor_1.cpu().detach().numpy())\n",
        "plt.show() "
      ],
      "execution_count": 79,
      "outputs": [
        {
          "output_type": "display_data",
          "data": {
            "image/png": "[encoded data removed]",
            "text/plain": [
              "<Figure size 576x576 with 5 Axes>"
            ]
          },
          "metadata": {
            "tags": []
          }
        }
      ]
    },
    {
      "cell_type": "code",
      "metadata": {
        "id": "zvnKGuUs8fNZ",
        "colab_type": "code",
        "colab": {}
      },
      "source": [
        "\n",
        "for tensor_1 in pred:\n",
        "  a=tensor_1"
      ],
      "execution_count": 0,
      "outputs": []
    },
    {
      "cell_type": "code",
      "metadata": {
        "id": "ps7KnjkgFdC-",
        "colab_type": "code",
        "colab": {
          "base_uri": "https://localhost:8080/",
          "height": 420
        },
        "outputId": "7dbb0686-9b50-4605-858e-652d39e701f5"
      },
      "source": [
        ""
      ],
      "execution_count": 76,
      "outputs": [
        {
          "output_type": "execute_result",
          "data": {
            "text/plain": [
              "tensor([[[0.3868, 0.4390, 0.4348,  ..., 0.3218, 0.3365, 0.3775],\n",
              "         [0.3514, 0.3498, 0.3775,  ..., 0.2657, 0.2460, 0.2769],\n",
              "         [0.3070, 0.2583, 0.2833,  ..., 0.1684, 0.1728, 0.2351],\n",
              "         ...,\n",
              "         [0.1594, 0.1023, 0.1031,  ..., 0.1012, 0.1055, 0.1492],\n",
              "         [0.1610, 0.1084, 0.1018,  ..., 0.1011, 0.1118, 0.1487],\n",
              "         [0.2339, 0.1678, 0.1637,  ..., 0.1536, 0.1618, 0.1825]],\n",
              "\n",
              "        [[0.4355, 0.4592, 0.4569,  ..., 0.3516, 0.3686, 0.3563],\n",
              "         [0.4049, 0.3967, 0.4091,  ..., 0.2491, 0.2716, 0.2854],\n",
              "         [0.3276, 0.3091, 0.3139,  ..., 0.2164, 0.2165, 0.2437],\n",
              "         ...,\n",
              "         [0.1477, 0.0981, 0.0919,  ..., 0.0898, 0.1018, 0.1441],\n",
              "         [0.1660, 0.1075, 0.0969,  ..., 0.0959, 0.1126, 0.1565],\n",
              "         [0.2161, 0.1786, 0.1746,  ..., 0.1732, 0.1854, 0.2441]],\n",
              "\n",
              "        [[0.4433, 0.4843, 0.5051,  ..., 0.3623, 0.3762, 0.3810],\n",
              "         [0.3831, 0.3829, 0.4007,  ..., 0.2576, 0.2541, 0.2939],\n",
              "         [0.3473, 0.2904, 0.3151,  ..., 0.2131, 0.2007, 0.2520],\n",
              "         ...,\n",
              "         [0.1495, 0.0952, 0.1002,  ..., 0.1012, 0.1052, 0.1458],\n",
              "         [0.1611, 0.1035, 0.1025,  ..., 0.1042, 0.1133, 0.1563],\n",
              "         [0.2303, 0.1597, 0.1650,  ..., 0.1637, 0.1810, 0.2236]]],\n",
              "       device='cuda:0', grad_fn=<SelectBackward>)"
            ]
          },
          "metadata": {
            "tags": []
          },
          "execution_count": 76
        }
      ]
    },
    {
      "cell_type": "code",
      "metadata": {
        "id": "xGBFlc26DWXL",
        "colab_type": "code",
        "colab": {}
      },
      "source": [
        "\n",
        "a=torch.tensor(np.random.rand(6,5,3))\n"
      ],
      "execution_count": 0,
      "outputs": []
    },
    {
      "cell_type": "code",
      "metadata": {
        "id": "RL1db7pMCT2j",
        "colab_type": "code",
        "colab": {}
      },
      "source": [
        "plt.imshow(pred_np.detach().numpy())"
      ],
      "execution_count": 0,
      "outputs": []
    }
  ]
}